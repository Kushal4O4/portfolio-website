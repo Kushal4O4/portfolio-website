{
  "nbformat": 4,
  "nbformat_minor": 0,
  "metadata": {
    "colab": {
      "provenance": [],
      "authorship_tag": "ABX9TyM4UJlCn/31douFRcFRNhKs",
      "include_colab_link": true
    },
    "kernelspec": {
      "name": "python3",
      "display_name": "Python 3"
    },
    "language_info": {
      "name": "python"
    }
  },
  "cells": [
    {
      "cell_type": "markdown",
      "metadata": {
        "id": "view-in-github",
        "colab_type": "text"
      },
      "source": [
        "<a href=\"https://colab.research.google.com/github/Kushal4O4/portfolio-website/blob/master/Kushal.ipynb\" target=\"_parent\"><img src=\"https://colab.research.google.com/assets/colab-badge.svg\" alt=\"Open In Colab\"/></a>"
      ]
    },
    {
      "cell_type": "code",
      "execution_count": 8,
      "metadata": {
        "colab": {
          "base_uri": "https://localhost:8080/"
        },
        "id": "rFKJAPdLhykN",
        "outputId": "f9397dc6-9947-4f2b-800e-a0e14b9a30d8"
      },
      "outputs": [
        {
          "output_type": "stream",
          "name": "stdout",
          "text": [
            "Enter in height:5.7\n",
            "Enter in width:23\n",
            "Enter in depth:4\n",
            "The perimeter is 32.7\n",
            "The volume is 524.4\n"
          ]
        }
      ],
      "source": [
        "#Task1\n",
        "\"\"\"\"height = float(input(\"Enter your height:\"))\n",
        "print(\"Your height is\", height)\"\"\"\n",
        "\n",
        "#Task2\n",
        "\"\"\"cocacola_price = float(input(\"Enter original price:\"))\n",
        "discounted_cocacola_price = cocacola_price - 0.2*cocacola_price\n",
        "print(\"The sales price is {:.2f}\".format(discounted_cocacola_price))\"\"\"\n",
        "#Task3\n",
        "\"\"\"height = float(input(\"Enter in height:\"))\n",
        "width = int(input(\"Enter in width:\"))\n",
        "depth = int(input(\"Enter in depth:\"))\n",
        "perimeter = height + width + depth\n",
        "volume = height * width * depth\n",
        "print(\"The perimeter is\", perimeter)\n",
        "print(\"The volume is\", volume)\"\"\""
      ]
    }
  ]
}