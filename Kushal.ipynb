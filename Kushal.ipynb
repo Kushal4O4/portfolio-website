{
  "nbformat": 4,
  "nbformat_minor": 0,
  "metadata": {
    "colab": {
      "provenance": [],
      "authorship_tag": "ABX9TyO5PmRwcPySpGaZ4LZJFdUY",
      "include_colab_link": true
    },
    "kernelspec": {
      "name": "python3",
      "display_name": "Python 3"
    },
    "language_info": {
      "name": "python"
    }
  },
  "cells": [
    {
      "cell_type": "markdown",
      "metadata": {
        "id": "view-in-github",
        "colab_type": "text"
      },
      "source": [
        "<a href=\"https://colab.research.google.com/github/Kushal4O4/portfolio-website/blob/master/Kushal.ipynb\" target=\"_parent\"><img src=\"https://colab.research.google.com/assets/colab-badge.svg\" alt=\"Open In Colab\"/></a>"
      ]
    },
    {
      "cell_type": "code",
      "execution_count": 5,
      "metadata": {
        "colab": {
          "base_uri": "https://localhost:8080/"
        },
        "id": "rFKJAPdLhykN",
        "outputId": "6f7dd16a-d4d8-4719-9e54-c4fb3aa16df2"
      },
      "outputs": [
        {
          "output_type": "stream",
          "name": "stdout",
          "text": [
            "The car will travel the following distances:\n",
            "300  miles in 5 hours.\n",
            "480  miles in 8 hours.\n",
            "720  miles in 12 hours.\n",
            "Enter no. of miles you have travelled:200\n",
            "Enter no. of gallons fuel used:7\n",
            "The mpg is 28.571428571428573\n"
          ]
        }
      ],
      "source": [
        "#Task4\n",
        "\"\"\"amount = int(input(\"Enter your projected amount:\"))\n",
        "calc_amount = amount - 0.20*amount\n",
        "annual_profit = amount - calc_amount\n",
        "print(\"Your total profit amount is\", annual_profit)\"\"\"\n",
        "#Task5\n",
        "speed = 60\n",
        "t1 = 5\n",
        "t2 = 8\n",
        "t3 = 12\n",
        "d5 = speed * t1\n",
        "d8 = speed * t2\n",
        "d12 = speed * t3\n",
        "print(\"The car will travel the following distances:\")\n",
        "print(d5, \" miles in 5 hours.\")\n",
        "print(d8, \" miles in 8 hours.\")\n",
        "print(d12, \" miles in 12 hours.\")\n",
        "#Task6\n",
        "miles_number = int(input(\"Enter no. of miles you have travelled:\"))\n",
        "gallons_number = int(input(\"Enter no. of gallons fuel used:\"))\n",
        "mpg = miles_number/gallons_number\n",
        "print(\"The mpg is\", mpg)"
      ]
    }
  ]
}