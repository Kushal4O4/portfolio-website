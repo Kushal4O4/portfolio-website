{
  "nbformat": 4,
  "nbformat_minor": 0,
  "metadata": {
    "colab": {
      "provenance": [],
      "authorship_tag": "ABX9TyOkO5IlEqJ7qN+COH0ATUHs",
      "include_colab_link": true
    },
    "kernelspec": {
      "name": "python3",
      "display_name": "Python 3"
    },
    "language_info": {
      "name": "python"
    }
  },
  "cells": [
    {
      "cell_type": "markdown",
      "metadata": {
        "id": "view-in-github",
        "colab_type": "text"
      },
      "source": [
        "<a href=\"https://colab.research.google.com/github/Kushal502/portfolio-website/blob/master/week5cw1.ipynb\" target=\"_parent\"><img src=\"https://colab.research.google.com/assets/colab-badge.svg\" alt=\"Open In Colab\"/></a>"
      ]
    },
    {
      "cell_type": "code",
      "execution_count": 1,
      "metadata": {
        "colab": {
          "base_uri": "https://localhost:8080/"
        },
        "id": "3IvthmmbmIpd",
        "outputId": "58570be3-f06c-423e-81b5-1fb523fd9e86"
      },
      "outputs": [
        {
          "output_type": "stream",
          "name": "stdout",
          "text": [
            "The total price is:  107.0\n"
          ]
        }
      ],
      "source": [
        "def calculate_total(price):\n",
        "  tax_rate = 0.07 #7% of tax\n",
        "  tax_amount = price * tax_rate\n",
        "  total = price + tax_amount\n",
        "  return total\n",
        "\n",
        "print(\"The total price is: \", calculate_total(100))"
      ]
    }
  ]
}