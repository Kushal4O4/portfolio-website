{
  "nbformat": 4,
  "nbformat_minor": 0,
  "metadata": {
    "colab": {
      "provenance": [],
      "authorship_tag": "ABX9TyN1XgaW1cGL2+Brequurn1y",
      "include_colab_link": true
    },
    "kernelspec": {
      "name": "python3",
      "display_name": "Python 3"
    },
    "language_info": {
      "name": "python"
    }
  },
  "cells": [
    {
      "cell_type": "markdown",
      "metadata": {
        "id": "view-in-github",
        "colab_type": "text"
      },
      "source": [
        "<a href=\"https://colab.research.google.com/github/Kushal4O4/portfolio-website/blob/master/Lab1_Task4_py.ipynb\" target=\"_parent\"><img src=\"https://colab.research.google.com/assets/colab-badge.svg\" alt=\"Open In Colab\"/></a>"
      ]
    },
    {
      "cell_type": "code",
      "execution_count": 19,
      "metadata": {
        "colab": {
          "base_uri": "https://localhost:8080/"
        },
        "id": "vpyphPVagwUF",
        "outputId": "03a23387-1c85-40b4-d788-e4aca3528c98"
      },
      "outputs": [
        {
          "output_type": "stream",
          "name": "stdout",
          "text": [
            "Enter your first number50\n",
            "Enter your second number40\n",
            "Your correct answer is: 10\n"
          ]
        }
      ],
      "source": [
        "number_1 = int(input('Enter your first number'))\n",
        "number_2 = int(input('Enter your second number'))\n",
        "\n",
        "Total = number_1 - number_2\n",
        "print('Your correct answer is:',Total)"
      ]
    }
  ]
}